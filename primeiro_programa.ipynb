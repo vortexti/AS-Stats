{
  "nbformat": 4,
  "nbformat_minor": 0,
  "metadata": {
    "colab": {
      "name": "primeiro-programa.ipynb",
      "provenance": [],
      "collapsed_sections": [],
      "authorship_tag": "ABX9TyOF+YM51F3NFft+mGYE2BFD",
      "include_colab_link": true
    },
    "kernelspec": {
      "name": "python3",
      "display_name": "Python 3"
    },
    "language_info": {
      "name": "python"
    }
  },
  "cells": [
    {
      "cell_type": "markdown",
      "metadata": {
        "id": "view-in-github",
        "colab_type": "text"
      },
      "source": [
        "<a href=\"https://colab.research.google.com/github/vortexti/AS-Stats/blob/master/primeiro_programa.ipynb\" target=\"_parent\"><img src=\"https://colab.research.google.com/assets/colab-badge.svg\" alt=\"Open In Colab\"/></a>"
      ]
    },
    {
      "cell_type": "markdown",
      "source": [
        "Meu primeiro programa"
      ],
      "metadata": {
        "id": "mfm-nKyZIgju"
      }
    },
    {
      "cell_type": "code",
      "execution_count": 21,
      "metadata": {
        "colab": {
          "base_uri": "https://localhost:8080/"
        },
        "id": "f_pZKQM9F3QU",
        "outputId": "554af561-58e8-4f5a-b04c-05a946d38f1a"
      },
      "outputs": [
        {
          "output_type": "stream",
          "name": "stdout",
          "text": [
            "Qual o preço do refrigetante: 20\n",
            "Qual a quantidade de refrigerante: 100\n",
            "<class 'str'>\n",
            "<class 'str'>\n",
            "o valor total é : 2000 pois multiplicamos 20 por 100 que deu o total mostrado\n"
          ]
        }
      ],
      "source": [
        "preco_pepsi = input (\"Qual o preço do refrigetante: \")\n",
        "quant_pepsi = input (\"Qual a quantidade de refrigerante: \")\n",
        "print(type(quant_pepsi))\n",
        "print(type(preco_pepsi))\n",
        "total = int(preco_pepsi) * int(quant_pepsi)\n",
        "print (\"o valor total é : \"+ str(total) +\" pois multiplicamos \" + str(preco_pepsi) + \" por \"+ str(quant_pepsi)+\" que deu o total mostrado\")"
      ]
    }
  ]
}